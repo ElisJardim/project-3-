{
 "cells": [
  {
   "cell_type": "code",
   "execution_count": 10,
   "metadata": {},
   "outputs": [],
   "source": [
    "import requests\n",
    "import json\n",
    "from pprint import pprint\n",
    "#from api_keys import weather_api_key\n",
    "import pandas as pd\n",
    "from datetime import datetime\n",
    "import matplotlib.pyplot as plt\n",
    "from meteostat import Point, Daily, Normals\n"
   ]
  },
  {
   "cell_type": "code",
   "execution_count": 20,
   "metadata": {},
   "outputs": [],
   "source": [
    "#Coordinates for Chicago 0'Hare Airport\n",
    "latitude = 41.9833\n",
    "longitude = -87.9167\n",
    "altitude = 204\n",
    "\n",
    "#Using dateime to establish start and end dates\n",
    "start = datetime(2022, 7, 1)\n",
    "end = datetime(2022, 9, 30)\n",
    "\n",
    "#Point function from meteostat\n",
    "Chicago = Point(latitude, longitude, altitude)\n",
    "\n",
    "#Pulls data from meteostat using daily function\n",
    "temp_data = Daily(Chicago, start, end)\n",
    "temp_data = temp_data.fetch()"
   ]
  },
  {
   "cell_type": "code",
   "execution_count": 12,
   "metadata": {},
   "outputs": [
    {
     "data": {
      "text/html": [
       "<div>\n",
       "<style scoped>\n",
       "    .dataframe tbody tr th:only-of-type {\n",
       "        vertical-align: middle;\n",
       "    }\n",
       "\n",
       "    .dataframe tbody tr th {\n",
       "        vertical-align: top;\n",
       "    }\n",
       "\n",
       "    .dataframe thead th {\n",
       "        text-align: right;\n",
       "    }\n",
       "</style>\n",
       "<table border=\"1\" class=\"dataframe\">\n",
       "  <thead>\n",
       "    <tr style=\"text-align: right;\">\n",
       "      <th></th>\n",
       "      <th>tavg</th>\n",
       "    </tr>\n",
       "    <tr>\n",
       "      <th>time</th>\n",
       "      <th></th>\n",
       "    </tr>\n",
       "  </thead>\n",
       "  <tbody>\n",
       "    <tr>\n",
       "      <th>2022-07-01</th>\n",
       "      <td>78.44</td>\n",
       "    </tr>\n",
       "    <tr>\n",
       "      <th>2022-07-02</th>\n",
       "      <td>74.66</td>\n",
       "    </tr>\n",
       "    <tr>\n",
       "      <th>2022-07-03</th>\n",
       "      <td>78.62</td>\n",
       "    </tr>\n",
       "    <tr>\n",
       "      <th>2022-07-04</th>\n",
       "      <td>78.08</td>\n",
       "    </tr>\n",
       "    <tr>\n",
       "      <th>2022-07-05</th>\n",
       "      <td>81.32</td>\n",
       "    </tr>\n",
       "    <tr>\n",
       "      <th>...</th>\n",
       "      <td>...</td>\n",
       "    </tr>\n",
       "    <tr>\n",
       "      <th>2022-09-26</th>\n",
       "      <td>56.66</td>\n",
       "    </tr>\n",
       "    <tr>\n",
       "      <th>2022-09-27</th>\n",
       "      <td>53.24</td>\n",
       "    </tr>\n",
       "    <tr>\n",
       "      <th>2022-09-28</th>\n",
       "      <td>52.16</td>\n",
       "    </tr>\n",
       "    <tr>\n",
       "      <th>2022-09-29</th>\n",
       "      <td>52.70</td>\n",
       "    </tr>\n",
       "    <tr>\n",
       "      <th>2022-09-30</th>\n",
       "      <td>55.76</td>\n",
       "    </tr>\n",
       "  </tbody>\n",
       "</table>\n",
       "<p>92 rows × 1 columns</p>\n",
       "</div>"
      ],
      "text/plain": [
       "             tavg\n",
       "time             \n",
       "2022-07-01  78.44\n",
       "2022-07-02  74.66\n",
       "2022-07-03  78.62\n",
       "2022-07-04  78.08\n",
       "2022-07-05  81.32\n",
       "...           ...\n",
       "2022-09-26  56.66\n",
       "2022-09-27  53.24\n",
       "2022-09-28  52.16\n",
       "2022-09-29  52.70\n",
       "2022-09-30  55.76\n",
       "\n",
       "[92 rows x 1 columns]"
      ]
     },
     "execution_count": 12,
     "metadata": {},
     "output_type": "execute_result"
    }
   ],
   "source": [
    "def cel_to_far(temp_fahr):\n",
    "    \"\"\"Convert Celsius to Fahrenheit\n",
    "    \n",
    "    Return Celsius conversion of input\"\"\"\n",
    "    temp_fahr = (temp_fahr *1.8) +32\n",
    "    return temp_fahr\n",
    "\n",
    "tavg_f = cel_to_far(temp_data['tavg'])\n",
    "\n",
    "def  km_to_miles(wspd_miles):\n",
    "    \n",
    "    wspd_miles = (wspd_miles * 0.621371)\n",
    "    return wspd_miles\n",
    "\n",
    "wspd_miles = km_to_miles(temp_data['wspd'])\n",
    "\n",
    "\n",
    "#pd.DataFrame(wspd_miles)\n",
    "pd.DataFrame(tavg_f)\n",
    "#pd.DataFrame(temp_data)"
   ]
  },
  {
   "cell_type": "code",
   "execution_count": 18,
   "metadata": {},
   "outputs": [],
   "source": [
    "temp_data = temp_data.merge(tavg_f,on='time').merge(wspd_miles,on='time')\n",
    "temp_data = temp_data.rename(columns={'tavg_x': 'tavg_cel', 'wspd_x': 'wspd_km','tavg_y': 'tvag_farh', 'wspd_y': 'wspd_miles'})\n",
    "temp_data = temp_data.reset_index()\n",
    "temp_data = temp_data.round(decimals = 2)"
   ]
  },
  {
   "cell_type": "code",
   "execution_count": 19,
   "metadata": {},
   "outputs": [],
   "source": [
    "temp_data.to_csv('meteostat_data.csv', index=True)"
   ]
  },
  {
   "cell_type": "code",
   "execution_count": null,
   "metadata": {},
   "outputs": [],
   "source": []
  }
 ],
 "metadata": {
  "kernelspec": {
   "display_name": "PythonData",
   "language": "python",
   "name": "pythondata"
  },
  "language_info": {
   "codemirror_mode": {
    "name": "ipython",
    "version": 3
   },
   "file_extension": ".py",
   "mimetype": "text/x-python",
   "name": "python",
   "nbconvert_exporter": "python",
   "pygments_lexer": "ipython3",
   "version": "3.7.7"
  },
  "orig_nbformat": 4
 },
 "nbformat": 4,
 "nbformat_minor": 2
}
